{
 "cells": [
  {
   "cell_type": "code",
   "execution_count": 19,
   "metadata": {},
   "outputs": [],
   "source": [
    "import numpy as np\n",
    "import pandas as pd\n",
    "import os\n",
    "import matplotlib.pyplot as plt\n",
    "import glob"
   ]
  },
  {
   "cell_type": "code",
   "execution_count": 20,
   "metadata": {},
   "outputs": [],
   "source": [
    "import tkinter as tk\n",
    "from tkinter import filedialog, messagebox"
   ]
  },
  {
   "cell_type": "markdown",
   "metadata": {},
   "source": [
    "## Select folders"
   ]
  },
  {
   "cell_type": "code",
   "execution_count": 21,
   "metadata": {},
   "outputs": [
    {
     "data": {
      "text/plain": [
       "'/Users/semenzalab/Desktop/ImageJ_cellcounting/demo/trial'"
      ]
     },
     "execution_count": 21,
     "metadata": {},
     "output_type": "execute_result"
    }
   ],
   "source": [
    "root = tk.Tk()\n",
    "root.withdraw()\n",
    "messagebox.showinfo(\"Folder Selection\", \"Press OK and then select the master folder (raw images)\")\n",
    "\n",
    "photos_dir_master = filedialog.askdirectory(title=\"Select the master folder\")\n",
    "photos_dir_master"
   ]
  },
  {
   "cell_type": "code",
   "execution_count": 22,
   "metadata": {},
   "outputs": [
    {
     "data": {
      "text/plain": [
       "'/Users/semenzalab/Desktop/ImageJ_cellcounting/demo/trial_output/Results'"
      ]
     },
     "execution_count": 22,
     "metadata": {},
     "output_type": "execute_result"
    }
   ],
   "source": [
    "# folder containing csv files with results from ImageJ\n",
    "messagebox.showinfo(\"Folder Selection\", \"Press OK and then select the results folder (containing all csv files to be analyzed)\")\n",
    "results_dir = filedialog.askdirectory(title=\"Select the folder containing resulting csv files from ImageJ\")\n",
    "results_dir"
   ]
  },
  {
   "cell_type": "markdown",
   "metadata": {},
   "source": [
    "# Run cells below"
   ]
  },
  {
   "cell_type": "code",
   "execution_count": 23,
   "metadata": {},
   "outputs": [],
   "source": [
    "# folder path you want to store processed results in\n",
    "output_dir = os.path.join(os.path.dirname(results_dir), \"Processed Results\")\n",
    "os.makedirs(output_dir)"
   ]
  },
  {
   "cell_type": "code",
   "execution_count": 24,
   "metadata": {},
   "outputs": [],
   "source": [
    "images_per_figure = []\n",
    "figures = [folder for folder in os.listdir(photos_dir_master) if os.path.isdir(os.path.join(photos_dir_master, folder))]"
   ]
  },
  {
   "cell_type": "code",
   "execution_count": 25,
   "metadata": {},
   "outputs": [],
   "source": [
    "results = glob.glob(os.path.join(results_dir, \"*.csv\"))"
   ]
  },
  {
   "cell_type": "code",
   "execution_count": 26,
   "metadata": {},
   "outputs": [],
   "source": [
    "mod_cellnum_dct_sq = {}\n",
    "clump_dct_sq = {}\n",
    "for i in range(len(figures)):\n",
    "    csv_filename = os.path.join(results_dir, figures[i] + \".csv\")\n",
    "    cellnums = pd.read_csv(csv_filename, index_col=0)\n",
    "    image_names_i = glob.glob(os.path.join(photos_dir_master + \"/\" + figures[i], \"**\", \"*.tif\"), recursive=True)\n",
    "    image_names_i = [i.split(\"/\")[-1] for i in image_names_i]\n",
    "    cellnums_dct = {i: sum(cellnums[\"Label\"] == f\"outliers_{i}\") for i in image_names_i}\n",
    "    clump_dct = {i: [] for i in image_names_i}\n",
    "    mod_cellnum_dct = cellnums_dct.copy()\n",
    "    for image in image_names_i:\n",
    "        image_data = cellnums.loc[cellnums[\"Label\"] == f\"outliers_{image}\", :]\n",
    "        sizes = image_data[\"Area\"].values\n",
    "        image_mean_area = np.mean(sizes)\n",
    "        image_median_area = np.median(sizes)\n",
    "\n",
    "        #p40 = np.percentile(sizes, 40)\n",
    "        #p60 = np.percentile(sizes, 60)\n",
    "        #image_range_area = np.mean(sizes[(sizes >= p40) & (sizes <= p60)])\n",
    "        for cell in image_data.index:\n",
    "            if image_data.loc[cell, \"Area\"] >= 1.8 * image_median_area:\n",
    "                num_extra = int((image_data.loc[cell, \"Area\"] // image_mean_area)) - 1\n",
    "                mod_cellnum_dct[image] += num_extra\n",
    "                clump_dct[image].append(f\"{cell}-{num_extra + 1}\")\n",
    "    mod_cellnum_dct_sq.update({figures[i]: mod_cellnum_dct})\n",
    "    clump_dct_sq.update({figures[i]: clump_dct})"
   ]
  },
  {
   "cell_type": "code",
   "execution_count": 27,
   "metadata": {},
   "outputs": [
    {
     "name": "stdout",
     "output_type": "stream",
     "text": [
      "               cell_nums\n",
      "imaged3-1.tif         70\n",
      "imaged1-3.tif         63\n",
      "imaged1-2.tif         34\n",
      "imaged3-2.tif         43\n",
      "imaged1-1.tif         75\n",
      "imaged3-3.tif         58\n",
      "imaged2-2.tif         48\n",
      "imaged2-3.tif         88\n",
      "imaged2-1.tif         73\n",
      "imagec2-2.tif        338\n",
      "imagec2-3.tif        313\n",
      "imagec2-1.tif        283\n",
      "imagec3-1.tif        319\n",
      "imagec1-3.tif        215\n",
      "imagec1-2.tif        188\n",
      "imagec3-2.tif        238\n",
      "imagec1-1.tif        211\n",
      "imagec3-3.tif        308\n",
      "               cell_nums\n",
      "imageb2-1.tif        114\n",
      "imageb2-3.tif        121\n",
      "imageb2-2.tif        113\n",
      "imageb3-3.tif        228\n",
      "imageb1-1.tif         96\n",
      "imageb3-2.tif        273\n",
      "imageb1-2.tif        152\n",
      "imageb1-3.tif        150\n",
      "imageb3-1.tif        218\n",
      "imagea2-1.tif         60\n",
      "imagea2-2.tif         70\n",
      "imagea2-3.tif         69\n",
      "imagea3-2.tif         93\n",
      "imagea3-3.tif         91\n",
      "imagea1-1.tif         83\n",
      "imagea1-3.tif         70\n",
      "imagea3-1.tif         71\n",
      "imagea1-2.tif         76\n"
     ]
    }
   ],
   "source": [
    "names = [f\"{i}-{j}\" for i in range(1,4) for j in range(1,4)]\n",
    "names_br = list(range(1,4))\n",
    "\n",
    "for folder in mod_cellnum_dct_sq.keys():\n",
    "    cellnum_df = pd.DataFrame.from_dict(mod_cellnum_dct_sq[folder], orient=\"index\").reset_index()\n",
    "    cellnum_df.columns = [\"image_name\", \"cell_nums\"]\n",
    "    \n",
    "    clump_df = pd.DataFrame.from_dict(clump_dct_sq[folder], orient=\"index\").reset_index()\n",
    "    \n",
    "    df = cellnum_df.copy()\n",
    "    df.set_index(\"image_name\", inplace=True)\n",
    "    reform_idx = [j.lower() for j in df.index]\n",
    "    df.index = reform_idx\n",
    "    print(df)\n",
    "    bio_groups = np.unique([j[:-7] for j in reform_idx])\n",
    "    new_idx = [f\"{bio_group}{name}.tif\" for bio_group in bio_groups for name in names]\n",
    "    new_dct = {new_id: df.loc[new_id, \"cell_nums\"] for new_id in new_idx}\n",
    "    new_vals = np.array(list(new_dct.values())).reshape(-1,3)\n",
    "    new_df = pd.DataFrame(new_vals, columns=[\"TR1\", \"TR2\", \"TR3\"], \n",
    "                          index=[f\"{bio_group}{k}\" for bio_group in bio_groups for k in names_br]).\\\n",
    "                            reset_index()\n",
    "\n",
    "    with pd.ExcelWriter(f\"{output_dir}/{folder}_processed.xlsx\") as f:\n",
    "        cellnum_df.to_excel(f, sheet_name=\"cell_nums\")\n",
    "        clump_df.to_excel(f, sheet_name=\"clump_data\")\n",
    "        new_df.to_excel(f, sheet_name=\"re-formatted\")\n",
    "\n",
    "        "
   ]
  },
  {
   "cell_type": "code",
   "execution_count": null,
   "metadata": {},
   "outputs": [],
   "source": []
  }
 ],
 "metadata": {
  "kernelspec": {
   "display_name": "base",
   "language": "python",
   "name": "python3"
  },
  "language_info": {
   "codemirror_mode": {
    "name": "ipython",
    "version": 3
   },
   "file_extension": ".py",
   "mimetype": "text/x-python",
   "name": "python",
   "nbconvert_exporter": "python",
   "pygments_lexer": "ipython3",
   "version": "3.12.5"
  }
 },
 "nbformat": 4,
 "nbformat_minor": 2
}
