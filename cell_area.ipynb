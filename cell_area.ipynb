{
 "cells": [
  {
   "cell_type": "code",
   "execution_count": 9,
   "metadata": {},
   "outputs": [],
   "source": [
    "import numpy as np\n",
    "import pandas as pd\n",
    "import os\n",
    "import matplotlib.pyplot as plt\n",
    "import glob"
   ]
  },
  {
   "cell_type": "code",
   "execution_count": 10,
   "metadata": {},
   "outputs": [],
   "source": [
    "import tkinter as tk\n",
    "from tkinter import filedialog, messagebox"
   ]
  },
  {
   "cell_type": "markdown",
   "metadata": {},
   "source": [
    "## Select folders"
   ]
  },
  {
   "cell_type": "code",
   "execution_count": 11,
   "metadata": {},
   "outputs": [
    {
     "data": {
      "text/plain": [
       "'/Users/semenzalab/Desktop/ImageJ_cellcounting/demo/trial'"
      ]
     },
     "execution_count": 11,
     "metadata": {},
     "output_type": "execute_result"
    }
   ],
   "source": [
    "root = tk.Tk()\n",
    "root.withdraw()\n",
    "messagebox.showinfo(\"Folder Selection\", \"Press OK and then select the master folder (raw images)\")\n",
    "\n",
    "photos_dir_master = filedialog.askdirectory(title=\"Select the master folder\")\n",
    "photos_dir_master"
   ]
  },
  {
   "cell_type": "code",
   "execution_count": 12,
   "metadata": {},
   "outputs": [
    {
     "data": {
      "text/plain": [
       "'/Users/semenzalab/Desktop/ImageJ_cellcounting/demo/trial_output/Results'"
      ]
     },
     "execution_count": 12,
     "metadata": {},
     "output_type": "execute_result"
    }
   ],
   "source": [
    "# folder containing csv files with results from ImageJ\n",
    "messagebox.showinfo(\"Folder Selection\", \"Press OK and then select the results folder (containing all csv files to be analyzed)\")\n",
    "results_dir = filedialog.askdirectory(title=\"Select the folder containing resulting csv files from ImageJ\")\n",
    "results_dir"
   ]
  },
  {
   "cell_type": "markdown",
   "metadata": {},
   "source": [
    "# Run cells below"
   ]
  },
  {
   "cell_type": "code",
   "execution_count": 13,
   "metadata": {},
   "outputs": [],
   "source": [
    "# folder path you want to store processed results in\n",
    "output_dir = os.path.join(os.path.dirname(results_dir), \"Processed Results 2\")\n",
    "os.makedirs(output_dir)"
   ]
  },
  {
   "cell_type": "code",
   "execution_count": 14,
   "metadata": {},
   "outputs": [],
   "source": [
    "images_per_figure = []\n",
    "figures = [folder for folder in os.listdir(photos_dir_master) if os.path.isdir(os.path.join(photos_dir_master, folder))]"
   ]
  },
  {
   "cell_type": "code",
   "execution_count": 15,
   "metadata": {},
   "outputs": [],
   "source": [
    "results = glob.glob(os.path.join(results_dir, \"*.csv\"))"
   ]
  },
  {
   "cell_type": "code",
   "execution_count": 16,
   "metadata": {},
   "outputs": [],
   "source": [
    "cellarea_dct_sq = {}\n",
    "for i in range(len(figures)):\n",
    "    csv_filename = os.path.join(results_dir, figures[i] + \".csv\")\n",
    "    cellnums = pd.read_csv(csv_filename, index_col=0)\n",
    "    image_names_i = glob.glob(os.path.join(photos_dir_master + \"/\" + figures[i], \"**\", \"*.tif\"), recursive=True)\n",
    "    image_names_i = [j.split(\"/\")[-1] for j in image_names_i]\n",
    "    cellarea_dct = {j: sum(cellnums.loc[cellnums[\"Label\"] == f\"outliers_{j}\", \"Area\"]) for j in image_names_i}\n",
    "    cellarea_dct_sq.update({figures[i]: cellarea_dct})"
   ]
  },
  {
   "cell_type": "code",
   "execution_count": 17,
   "metadata": {},
   "outputs": [
    {
     "data": {
      "text/plain": [
       "{'f2': {'ImageD3-1.tif': 522852,\n",
       "  'ImageD1-3.tif': 488775,\n",
       "  'ImageD1-2.tif': 272361,\n",
       "  'ImageD3-2.tif': 329275,\n",
       "  'ImageD1-1.tif': 665311,\n",
       "  'ImageD3-3.tif': 465457,\n",
       "  'ImageD2-2.tif': 258666,\n",
       "  'ImageD2-3.tif': 908363,\n",
       "  'ImageD2-1.tif': 564072,\n",
       "  'ImageC2-2.tif': 3627645,\n",
       "  'ImageC2-3.tif': 3138201,\n",
       "  'ImageC2-1.tif': 2065779,\n",
       "  'ImageC3-1.tif': 3712663,\n",
       "  'ImageC1-3.tif': 1143992,\n",
       "  'ImageC1-2.tif': 1299569,\n",
       "  'ImageC3-2.tif': 4853226,\n",
       "  'ImageC1-1.tif': 1147888,\n",
       "  'ImageC3-3.tif': 3595306},\n",
       " 'f1': {'ImageB2-1.tif': 719644,\n",
       "  'ImageB2-3.tif': 939556,\n",
       "  'ImageB2-2.tif': 1146521,\n",
       "  'ImageB3-3.tif': 1285514,\n",
       "  'ImageB1-1.tif': 473153,\n",
       "  'ImageB3-2.tif': 2154828,\n",
       "  'ImageB1-2.tif': 698524,\n",
       "  'ImageB1-3.tif': 986761,\n",
       "  'ImageB3-1.tif': 1142007,\n",
       "  'ImageA2-1.tif': 251623,\n",
       "  'ImageA2-2.tif': 382933,\n",
       "  'ImageA2-3.tif': 346899,\n",
       "  'ImageA3-2.tif': 764688,\n",
       "  'ImageA3-3.tif': 612868,\n",
       "  'ImageA1-1.tif': 471271,\n",
       "  'ImageA1-3.tif': 452152,\n",
       "  'ImageA3-1.tif': 535606,\n",
       "  'ImageA1-2.tif': 461265}}"
      ]
     },
     "execution_count": 17,
     "metadata": {},
     "output_type": "execute_result"
    }
   ],
   "source": [
    "cellarea_dct_sq"
   ]
  },
  {
   "cell_type": "code",
   "execution_count": 20,
   "metadata": {},
   "outputs": [
    {
     "name": "stdout",
     "output_type": "stream",
     "text": [
      "               cell_area\n",
      "imaged3-1.tif   0.041715\n",
      "imaged1-3.tif   0.038997\n",
      "imaged1-2.tif   0.021730\n",
      "imaged3-2.tif   0.026271\n",
      "imaged1-1.tif   0.053082\n",
      "imaged3-3.tif   0.037136\n",
      "imaged2-2.tif   0.020638\n",
      "imaged2-3.tif   0.072473\n",
      "imaged2-1.tif   0.045004\n",
      "imagec2-2.tif   0.289430\n",
      "imagec2-3.tif   0.250380\n",
      "imagec2-1.tif   0.164817\n",
      "imagec3-1.tif   0.296213\n",
      "imagec1-3.tif   0.091273\n",
      "imagec1-2.tif   0.103685\n",
      "imagec3-2.tif   0.387212\n",
      "imagec1-1.tif   0.091584\n",
      "imagec3-3.tif   0.286850\n",
      "               cell_area\n",
      "imageb2-1.tif   0.057416\n",
      "imageb2-3.tif   0.074962\n",
      "imageb2-2.tif   0.091475\n",
      "imageb3-3.tif   0.102564\n",
      "imageb1-1.tif   0.037750\n",
      "imageb3-2.tif   0.171922\n",
      "imageb1-2.tif   0.055731\n",
      "imageb1-3.tif   0.078728\n",
      "imageb3-1.tif   0.091114\n",
      "imagea2-1.tif   0.020076\n",
      "imagea2-2.tif   0.030552\n",
      "imagea2-3.tif   0.027677\n",
      "imagea3-2.tif   0.061010\n",
      "imagea3-3.tif   0.048897\n",
      "imagea1-1.tif   0.037600\n",
      "imagea1-3.tif   0.036075\n",
      "imagea3-1.tif   0.042733\n",
      "imagea1-2.tif   0.036802\n"
     ]
    },
    {
     "ename": "",
     "evalue": "",
     "output_type": "error",
     "traceback": [
      "\u001b[1;31mThe Kernel crashed while executing code in the current cell or a previous cell. \n",
      "\u001b[1;31mPlease review the code in the cell(s) to identify a possible cause of the failure. \n",
      "\u001b[1;31mClick <a href='https://aka.ms/vscodeJupyterKernelCrash'>here</a> for more info. \n",
      "\u001b[1;31mView Jupyter <a href='command:jupyter.viewOutput'>log</a> for further details."
     ]
    }
   ],
   "source": [
    "names = [f\"{i}-{j}\" for i in range(1,4) for j in range(1,4)]\n",
    "names_br = list(range(1,4))\n",
    "image_size = 4080 * 3072\n",
    "\n",
    "for folder in cellarea_dct_sq.keys():\n",
    "    cellarea_df = pd.DataFrame.from_dict(cellarea_dct_sq[folder], orient=\"index\").reset_index()\n",
    "    cellarea_df.columns = [\"image_name\", \"cell_area\"]\n",
    "    cellarea_df[\"cell_area\"] = cellarea_df[\"cell_area\"] / image_size\n",
    "    \n",
    "    \n",
    "    df = cellarea_df.copy()\n",
    "    df.set_index(\"image_name\", inplace=True)\n",
    "    reform_idx = [j.lower() for j in df.index]\n",
    "    df.index = reform_idx\n",
    "    print(df)\n",
    "    bio_groups = np.unique([j[:-7] for j in reform_idx])\n",
    "    new_idx = [f\"{bio_group}{name}.tif\" for bio_group in bio_groups for name in names]\n",
    "    new_dct = {new_id: df.loc[new_id, \"cell_area\"] for new_id in new_idx}\n",
    "    new_vals = np.array(list(new_dct.values())).reshape(-1,3)\n",
    "    new_df = pd.DataFrame(new_vals, columns=[\"TR1\", \"TR2\", \"TR3\"], \n",
    "                          index=[f\"{bio_group}{k}\" for bio_group in bio_groups for k in names_br]).\\\n",
    "                            reset_index()\n",
    "\n",
    "    with pd.ExcelWriter(f\"{output_dir}/{folder}_processed.xlsx\") as f:\n",
    "        cellarea_df.to_excel(f, sheet_name=\"cell_area\")\n",
    "        new_df.to_excel(f, sheet_name=\"re-formatted\")\n",
    "\n",
    "        "
   ]
  },
  {
   "cell_type": "code",
   "execution_count": null,
   "metadata": {},
   "outputs": [],
   "source": []
  }
 ],
 "metadata": {
  "kernelspec": {
   "display_name": "Python 3",
   "language": "python",
   "name": "python3"
  },
  "language_info": {
   "codemirror_mode": {
    "name": "ipython",
    "version": 3
   },
   "file_extension": ".py",
   "mimetype": "text/x-python",
   "name": "python",
   "nbconvert_exporter": "python",
   "pygments_lexer": "ipython3",
   "version": "3.12.5"
  }
 },
 "nbformat": 4,
 "nbformat_minor": 2
}
